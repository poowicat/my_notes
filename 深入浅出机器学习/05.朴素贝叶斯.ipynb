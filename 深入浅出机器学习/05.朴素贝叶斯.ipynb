{
 "cells": [
  {
   "cell_type": "markdown",
   "metadata": {},
   "source": [
    "**定义**：\n",
    "- 朴素贝叶斯算法是一种基于贝叶斯理论的有监督学习算法\n",
    "- 之所以说’朴素‘，是因为此算法基于样本特征之间相互独立的朴素假设\n",
    "- 正因如此不用考虑样本特征之间的关系，朴素贝叶斯分类器的效率非常高\n",
    "- 接下来将介绍朴素贝叶斯算法的基本概念和用法\n",
    "\n",
    "\n",
    "本章主要涉及的知识点有：\n",
    "- 贝叶斯定理\n",
    "- 朴素贝叶斯的简单应用\n",
    "- 贝努力朴素贝叶斯、高斯朴素贝叶斯和多项式朴素贝叶斯\n",
    "- 朴素贝叶斯实例——判断肿瘤是否良性"
   ]
  },
  {
   "cell_type": "markdown",
   "metadata": {},
   "source": [
    "#### 朴素贝叶斯基本概念\n",
    "    贝叶斯是位数学家，他创立了贝叶斯统计理论，该理论对现代概率论和数理统计有很重要的作用。在数学和工程领域都得到了广泛的应用。"
   ]
  },
  {
   "cell_type": "markdown",
   "metadata": {},
   "source": [
    "##### 贝叶斯定理\n",
    "    那是一个 7 月的傍晚，临近下班，小 C 收拾东西准备去接女朋友。问题来了，小 C\n",
    "    要不要带伞呢？\n",
    "    已知：\n",
    "    天气预报说今日降水概率为 50%——P（A）\n",
    "    晚高峰堵车的概率是 80%——P（B）\n",
    "    如果下雨，晚高峰堵车的概率是 95%——P（B|A）\n",
    "    小 C 向窗外望去，看到堵车了，则根据贝叶斯定理：\n",
    "    求得下雨的概率为 0.5×0.95÷0.8=0.593 75。\n",
    "    小 C 果断地拿起雨伞冲了出去……"
   ]
  },
  {
   "cell_type": "markdown",
   "metadata": {},
   "source": [
    "##### 朴素贝叶斯的简单应用\n",
    "    过去的 7 天当中，有 3 天下雨，4 天没有下雨。用 0 代表没有下雨，而 1 代表下雨，我们可以用一个数组来表示：\n",
    "y = [0, 1, 1, 0, 1, 0, 0]\n",
    "\n",
    "    还有另外一些信息，包括刮北风、闷热、多云，以及天气预报给出的信息.同样地，我们用 0 代表否，1 代表是，可以得到另外一个数组：\n",
    "X = [0, 1, 0, 1], [1, 1, 1, 0], [0, 1, 1, 0], [0, 0, 0, 1], [0, 1, 1, 0], [0, 1, 0, 1], [1, 0, 0, 1]"
   ]
  },
  {
   "cell_type": "code",
   "execution_count": 36,
   "metadata": {},
   "outputs": [
    {
     "name": "stdout",
     "output_type": "stream",
     "text": [
      "feature counts:\n",
      "{0: array([1, 2, 0, 4]), 1: array([1, 3, 3, 0])}\n"
     ]
    }
   ],
   "source": [
    "'''\n",
    "Author: your name\n",
    "Date: 2022-02-25 09:10:21\n",
    "LastEditTime: 2022-02-25 10:02:19\n",
    "LastEditors: your name\n",
    "Description: 打开koroFileHeader查看配置 进行设置: https://github.com/OBKoro1/koro1FileHeader/wiki/%E9%85%8D%E7%BD%AE\n",
    "FilePath: \\深入浅出机器学习\\05.朴素贝叶斯.ipynb\n",
    "'''\n",
    "# 导入numpy\n",
    "import numpy as np\n",
    "# 将x，y 赋值为np数组\n",
    "x = np.array([[0, 1, 0, 1],\n",
    "              [1, 1, 1, 0],\n",
    "              [0, 1, 1, 0],\n",
    "              [0, 0, 0, 1],\n",
    "              [0, 1, 1, 0],\n",
    "              [0, 1, 0, 1],\n",
    "              [1, 0, 0, 1],])\n",
    "y = np.array([0, 1, 1, 0, 1, 0, 0])\n",
    "# 对不同分类计算每个特征为1的数量\n",
    "counts = {}\n",
    "for label in np.unique(y):  # y只有元素0,1；所以遍历两次\n",
    "    counts[label] = x[y == label].sum(axis=0)\n",
    "    # 打印出计数结果\n",
    "print('feature counts:\\n{}'.format(counts))\n"
   ]
  },
  {
   "cell_type": "code",
   "execution_count": 37,
   "metadata": {},
   "outputs": [
    {
     "name": "stdout",
     "output_type": "stream",
     "text": [
      "\n",
      "\n",
      "\n",
      "\n",
      "===============\n",
      "\n",
      "要下雨啦。快收衣服！！\n",
      "\n",
      "===============\n",
      "\n",
      "\n",
      "\n",
      "\n"
     ]
    }
   ],
   "source": [
    "# 导入贝努力贝叶斯\n",
    "from sklearn.naive_bayes import BernoulliNB\n",
    "# 使用贝努力贝叶斯拟合数据\n",
    "clf = BernoulliNB()\n",
    "clf.fit(x, y)\n",
    "# 要进行预测的这一天，没有刮北风，也不闷热\n",
    "# 但是多云，天气预报没有说有雨\n",
    "Next_Day = [[0, 0, 1, 0]]  # [刮北风， 闷热， 多云， 天气预报有雨]\n",
    "pre = clf.predict(Next_Day)\n",
    "print('\\n\\n\\n')\n",
    "print('===============\\n')\n",
    "if pre == [1]:\n",
    "    print(\"要下雨啦。快收衣服！！\")\n",
    "else:\n",
    "    print(\"放心，又是一个大晴天！\")\n",
    "print('\\n===============')\n",
    "print('\\n\\n\\n')\n"
   ]
  },
  {
   "cell_type": "markdown",
   "metadata": {},
   "source": [
    "【结果分析】：\n",
    "- 可以看出 ，朴素贝叶斯分类器，把这一天放到了会下雨的分类中，\n",
    "- 那么如果另外一天，刮北风，而且闷热，但云量不多，同时天气预报说有雨，会怎样呢？"
   ]
  },
  {
   "cell_type": "code",
   "execution_count": 38,
   "metadata": {},
   "outputs": [
    {
     "name": "stdout",
     "output_type": "stream",
     "text": [
      "\n",
      "\n",
      "\n",
      "\n",
      "===============\n",
      "\n",
      "放心，又是一个大晴天！\n",
      "\n",
      "===============\n",
      "\n",
      "\n",
      "\n",
      "\n"
     ]
    }
   ],
   "source": [
    "# 假设另一天的数据如下：\n",
    "Another_day = [[1, 1, 0, 1]]\n",
    "# 使用训练好的模型进行预测\n",
    "pre2 = clf.predict(Another_day)\n",
    "print('\\n\\n\\n')\n",
    "print('===============\\n')\n",
    "if pre2 == [1]:\n",
    "    print(\"要下雨啦。快收衣服！！\")\n",
    "else:\n",
    "    print(\"放心，又是一个大晴天！\")\n",
    "print('\\n===============')\n",
    "print('\\n\\n\\n')"
   ]
  },
  {
   "cell_type": "markdown",
   "metadata": {},
   "source": [
    "【结果分析】 \n",
    "- 这个意思是说，我们所预测的第一天，不下雨的概率大约13.8%，下雨的概率大约是86.2%，看起来的还是很不错的；\n",
    "- 再看下第二天的情况：\n"
   ]
  },
  {
   "cell_type": "code",
   "execution_count": 39,
   "metadata": {},
   "outputs": [
    {
     "name": "stdout",
     "output_type": "stream",
     "text": [
      "\n",
      "\n",
      "\n",
      "\n",
      "代码运行结果：\n",
      "===============\n",
      "\n",
      "[[0.92340878 0.07659122]]\n",
      "\n",
      "===============\n",
      "\n",
      "\n",
      "\n",
      "\n"
     ]
    }
   ],
   "source": [
    "print('\\n\\n\\n')\n",
    "print('代码运行结果：')\n",
    "print('===============\\n')\n",
    "# 打印另一天的模型预测的分类概率 \n",
    "print(clf.predict_proba(Another_day))\n",
    "print('\\n===============')\n",
    "print('\\n\\n\\n')"
   ]
  },
  {
   "cell_type": "markdown",
   "metadata": {},
   "source": [
    "【结果分析】 \n",
    "- 也就是说，第二天不下雨概率是92%， 下雨概率只有7.7%，这样看起来朴素贝叶斯做出的预测还不错；\n",
    "- **注意**虽然朴素贝叶斯是相当好的分类器，但对于预测具体的数值并不是很擅长，因此predict_proba给出的预测值，不要当真。\n"
   ]
  },
  {
   "cell_type": "markdown",
   "metadata": {},
   "source": [
    "#### 朴素贝叶斯算法的不同方法\n",
    "- 朴素贝叶斯算法包含多种不同方法：\n",
    "- 在scikit-learn中有是那种方法；\n",
    "- 分别是： 贝努力朴素贝叶斯（Bernoulli Naive Bayes）、高斯贝叶斯（Gaussion Naive Bayes）和多项式朴素贝叶斯（Multinomial Nauve Bayes）"
   ]
  },
  {
   "cell_type": "markdown",
   "metadata": {},
   "source": [
    "##### 贝努力朴素贝叶斯\n",
    "- 这种方法比较适合符合贝努力分布的数据集；\n",
    "- 贝努力分布也称为“二项分布”或者“0-1分布”\n",
    "- 比如抛硬币情况结果只有两种可能的结果，这种情况称为贝努力分布的；\n",
    "- 在刚才的例子中我们数据集中的每个特征只有0和1两个数值，在这种情况下，贝努力贝叶斯表现还不错；\n",
    "- 但 如果用更复杂的数据集，结果可能就不一样了；\n",
    "  "
   ]
  },
  {
   "cell_type": "code",
   "execution_count": 40,
   "metadata": {},
   "outputs": [
    {
     "name": "stdout",
     "output_type": "stream",
     "text": [
      "\n",
      "\n",
      "\n",
      "\n",
      "代码运行结果：\n",
      "==============================\n",
      "\n",
      "模型得分：0.544\n",
      "\n",
      "==============================\n",
      "\n",
      "\n",
      "\n",
      "\n"
     ]
    }
   ],
   "source": [
    "# 导入数据集生成工具\n",
    "from sklearn.datasets import make_blobs\n",
    "# 导入数据集拆分工具\n",
    "from sklearn.model_selection import train_test_split\n",
    "# 生成样本数量为500，分类数为5的数据集\n",
    "x, y = make_blobs(n_samples=500, centers=5, random_state=8)\n",
    "# 将数据集拆分为训练集和数据集\n",
    "x_train, x_test, y_train, y_test = train_test_split(x, y, random_state=8)\n",
    "# 使用贝努力贝叶斯拟合数据\n",
    "nb = BernoulliNB()\n",
    "nb.fit(x_train, y_train)\n",
    "print('\\n\\n\\n')\n",
    "print('代码运行结果：')\n",
    "print('==============================\\n')\n",
    "# 打印模型得分\n",
    "print('模型得分：{:.3f}'.format(nb.score(x_test, y_test)))\n",
    "print('\\n==============================')\n",
    "print('\\n\\n\\n')\n"
   ]
  },
  {
   "cell_type": "markdown",
   "metadata": {},
   "source": [
    "【结果分析】\n",
    "- 可看到我们手工生成的复杂数据中，贝努力朴素贝叶斯得分很差；\n",
    "- 只有大约一半的数据被正确分类；\n",
    "- 这是为什么呢？\n",
    "  "
   ]
  },
  {
   "cell_type": "markdown",
   "metadata": {},
   "source": [
    "下面通过图像来了解下内努力朴素贝叶斯的工作过程，输入代码如下："
   ]
  },
  {
   "cell_type": "code",
   "execution_count": 41,
   "metadata": {},
   "outputs": [
    {
     "data": {
      "image/png": "[encoded data removed]",
      "text/plain": [
       "<Figure size 432x288 with 1 Axes>"
      ]
     },
     "metadata": {
      "needs_background": "light"
     },
     "output_type": "display_data"
    }
   ],
   "source": [
    "# 导入画图工具\n",
    "import matplotlib.pyplot as plt\n",
    "# 限定横轴与纵轴的最大值\n",
    "x_min, x_max = x[:, 0].min() - 0.5, x[:, 0].max() + 0.5\n",
    "y_min, y_max = x[:, 1].min() - 0.5, x[:, 0].max() + 0.5\n",
    "# 用不同背景色表示不同的分类\n",
    "xx, yy = np.meshgrid(np.arange(x_min, x_max, .02),\n",
    "                     np.arange(y_min, y_max, .02))  # 从坐标向量返回坐标举证\n",
    "z = nb.predict(np.c_[(xx.ravel(),yy.ravel())]).reshape(xx.shape)\n",
    "plt.pcolormesh(xx,yy,z,cmap=plt.cm.Pastel1)\n",
    "# 将训练集和测试集用散点图表示\n",
    "plt.scatter(x_train[:,0], x_train[:,1], c=y_train,cmap=plt.cm.cool,edgecolors='k')\n",
    "plt.scatter(x_test[:,0],x_test[:,1],c= y_test, cmap=plt.cm.cool,marker=\"*\")\n",
    "plt.xlim(xx.min(),xx.max())\n",
    "plt.xlim(yy.min(),yy.max())\n",
    "# 图题\n",
    "plt.title('Classifiter BernoulliNB')\n",
    "plt.show()"
   ]
  },
  {
   "cell_type": "markdown",
   "metadata": {},
   "source": [
    "【结果分析】\n",
    "- 由于贝努力模型十分简单；\n",
    "- 所以模型对于数据的判断是，如果特征 1 大于或等于 0，且特征 2 大于或等于 0，则将数据归为一类；如果特征 1 小于 0，且特征 2 也小于 0，则归为另一类而其余的数据全部归为第三\n",
    "类，难怪模型的得分这么差了。\n",
    "- 在这种情况下，我们要使用高斯朴素贝叶斯算法："
   ]
  },
  {
   "cell_type": "markdown",
   "metadata": {},
   "source": [
    "##### 高斯朴素贝叶斯\n",
    "- 是假设样本特征符合高斯分布；或者说是符合正态分布时所用的算法；\n",
    "- 下面使用高斯朴素贝叶斯对刚生成的数据集进行拟合，看结果如何："
   ]
  },
  {
   "cell_type": "code",
   "execution_count": 42,
   "metadata": {},
   "outputs": [
    {
     "name": "stdout",
     "output_type": "stream",
     "text": [
      "\n",
      "\n",
      "\n",
      "\n",
      "代码运行结果：\n",
      "==============================\n",
      "\n",
      "模型得分：0.968\n",
      "\n",
      "==============================\n",
      "\n",
      "\n",
      "\n",
      "\n"
     ]
    }
   ],
   "source": [
    "# 导入高斯贝叶斯\n",
    "from sklearn.naive_bayes import GaussianNB\n",
    "# 使用其模拟器\n",
    "gnb = GaussianNB()\n",
    "gnb.fit(x_train,y_train)\n",
    "print('\\n\\n\\n')\n",
    "print('代码运行结果：')\n",
    "print('==============================\\n')\n",
    "# 打印模型得分\n",
    "print('模型得分：{:.3f}'.format(gnb.score(x_test, y_test)))\n",
    "print('\\n==============================')\n",
    "print('\\n\\n\\n')"
   ]
  },
  {
   "cell_type": "markdown",
   "metadata": {},
   "source": [
    "【结果分析】\n",
    "- 使用高斯朴素贝叶斯方法建立的模型得分要高得多（比贝努力）；\n",
    "- 看来我们手工生成的数据集特征基本上符合正态分布的情况；\n",
    "- 下面再用图像演示，以便了解高斯的工作工程：\n",
    "  "
   ]
  },
  {
   "cell_type": "code",
   "execution_count": 43,
   "metadata": {},
   "outputs": [
    {
     "data": {
      "image/png": "[encoded data removed]",
      "text/plain": [
       "<Figure size 432x288 with 1 Axes>"
      ]
     },
     "metadata": {
      "needs_background": "light"
     },
     "output_type": "display_data"
    }
   ],
   "source": [
    "\n",
    "# 用不同色块来表示不同的分类\n",
    "z = gnb.predict(np.c_[(xx.ravel(), yy.ravel())]).reshape(xx.shape)\n",
    "plt.pcolormesh(xx, yy, z, cmap=plt.cm.Pastel1)\n",
    "# 用散点图画出训练集和测试集数据\n",
    "plt.scatter(x_train[:, 0], x_train[:, 1], c=y_train,\n",
    "            cmap=plt.cm.cool, edgecolor='k')\n",
    "plt.scatter(x_test[:, 0], x_test[:, 1], c=y_test, cmap=plt.cm.cool, marker='*',\n",
    "            edgecolor='k')\n",
    "# 设定横轴纵轴的范围\n",
    "plt.xlim(xx.min(), xx.max())\n",
    "plt.ylim(yy.min(), yy.max())\n",
    "# 设定图题\n",
    "plt.title('Classifi er: GaussianNB')\n",
    "# 画出图形\n",
    "plt.show()\n"
   ]
  },
  {
   "cell_type": "markdown",
   "metadata": {},
   "source": [
    "【结果分析】\n",
    "- 高斯朴素贝叶斯也确实是能够胜任大部分的分类任务，这是因为在自然科学和社会科学领域，有大量的现象都是呈现出正态分布的状态。"
   ]
  },
  {
   "cell_type": "markdown",
   "metadata": {},
   "source": [
    "##### 多项式朴素贝叶斯\n",
    "- 它主要是用于拟合多项式分布的数据集。\n",
    "- 二项式分布可以通过抛硬币的例子来进行理解，那么多项式分布都可以用掷骰子来理解。\n",
    "- 骰子有 6 个面，因此每掷一次骰子，结果都可能是从 1 ～ 6 这 6 个数字，如果我们掷 n 次骰子，而每个面朝上的次数的分布情况，就是一个多项式分布。\n",
    "- 现在我们**继续使用生成的手工数据集**来对多项式朴素贝叶斯进行实验，输入代码如下：\n",
    "\n"
   ]
  },
  {
   "cell_type": "code",
   "execution_count": 44,
   "metadata": {},
   "outputs": [
    {
     "ename": "ValueError",
     "evalue": "Negative values in data passed to MultinomialNB (input X)",
     "output_type": "error",
     "traceback": [
      "\u001b[1;31m---------------------------------------------------------------------------\u001b[0m",
      "\u001b[1;31mValueError\u001b[0m                                Traceback (most recent call last)",
      "\u001b[1;32m~\\AppData\\Local\\Temp\\ipykernel_72152\\52169480.py\u001b[0m in \u001b[0;36m<module>\u001b[1;34m\u001b[0m\n\u001b[0;32m      3\u001b[0m \u001b[1;31m# 用多项式朴素贝叶斯拟合数据\u001b[0m\u001b[1;33m\u001b[0m\u001b[1;33m\u001b[0m\u001b[1;33m\u001b[0m\u001b[0m\n\u001b[0;32m      4\u001b[0m \u001b[0mmnb\u001b[0m \u001b[1;33m=\u001b[0m \u001b[0mMultinomialNB\u001b[0m\u001b[1;33m(\u001b[0m\u001b[1;33m)\u001b[0m\u001b[1;33m\u001b[0m\u001b[1;33m\u001b[0m\u001b[0m\n\u001b[1;32m----> 5\u001b[1;33m \u001b[0mmnb\u001b[0m\u001b[1;33m.\u001b[0m\u001b[0mfit\u001b[0m\u001b[1;33m(\u001b[0m\u001b[0mx_train\u001b[0m\u001b[1;33m,\u001b[0m \u001b[0my_train\u001b[0m\u001b[1;33m)\u001b[0m\u001b[1;33m\u001b[0m\u001b[1;33m\u001b[0m\u001b[0m\n\u001b[0m\u001b[0;32m      6\u001b[0m \u001b[0mmnb\u001b[0m\u001b[1;33m.\u001b[0m\u001b[0mscore\u001b[0m\u001b[1;33m(\u001b[0m\u001b[0mx_test\u001b[0m\u001b[1;33m,\u001b[0m \u001b[0my_test\u001b[0m\u001b[1;33m)\u001b[0m\u001b[1;33m\u001b[0m\u001b[1;33m\u001b[0m\u001b[0m\n",
      "\u001b[1;32mD:\\soft\\Anaconda3\\envs\\study_ai\\lib\\site-packages\\sklearn\\naive_bayes.py\u001b[0m in \u001b[0;36mfit\u001b[1;34m(self, X, y, sample_weight)\u001b[0m\n\u001b[0;32m    688\u001b[0m         \u001b[0mn_classes\u001b[0m \u001b[1;33m=\u001b[0m \u001b[0mY\u001b[0m\u001b[1;33m.\u001b[0m\u001b[0mshape\u001b[0m\u001b[1;33m[\u001b[0m\u001b[1;36m1\u001b[0m\u001b[1;33m]\u001b[0m\u001b[1;33m\u001b[0m\u001b[1;33m\u001b[0m\u001b[0m\n\u001b[0;32m    689\u001b[0m         \u001b[0mself\u001b[0m\u001b[1;33m.\u001b[0m\u001b[0m_init_counters\u001b[0m\u001b[1;33m(\u001b[0m\u001b[0mn_classes\u001b[0m\u001b[1;33m,\u001b[0m \u001b[0mn_features\u001b[0m\u001b[1;33m)\u001b[0m\u001b[1;33m\u001b[0m\u001b[1;33m\u001b[0m\u001b[0m\n\u001b[1;32m--> 690\u001b[1;33m         \u001b[0mself\u001b[0m\u001b[1;33m.\u001b[0m\u001b[0m_count\u001b[0m\u001b[1;33m(\u001b[0m\u001b[0mX\u001b[0m\u001b[1;33m,\u001b[0m \u001b[0mY\u001b[0m\u001b[1;33m)\u001b[0m\u001b[1;33m\u001b[0m\u001b[1;33m\u001b[0m\u001b[0m\n\u001b[0m\u001b[0;32m    691\u001b[0m         \u001b[0malpha\u001b[0m \u001b[1;33m=\u001b[0m \u001b[0mself\u001b[0m\u001b[1;33m.\u001b[0m\u001b[0m_check_alpha\u001b[0m\u001b[1;33m(\u001b[0m\u001b[1;33m)\u001b[0m\u001b[1;33m\u001b[0m\u001b[1;33m\u001b[0m\u001b[0m\n\u001b[0;32m    692\u001b[0m         \u001b[0mself\u001b[0m\u001b[1;33m.\u001b[0m\u001b[0m_update_feature_log_prob\u001b[0m\u001b[1;33m(\u001b[0m\u001b[0malpha\u001b[0m\u001b[1;33m)\u001b[0m\u001b[1;33m\u001b[0m\u001b[1;33m\u001b[0m\u001b[0m\n",
      "\u001b[1;32mD:\\soft\\Anaconda3\\envs\\study_ai\\lib\\site-packages\\sklearn\\naive_bayes.py\u001b[0m in \u001b[0;36m_count\u001b[1;34m(self, X, Y)\u001b[0m\n\u001b[0;32m    861\u001b[0m     \u001b[1;32mdef\u001b[0m \u001b[0m_count\u001b[0m\u001b[1;33m(\u001b[0m\u001b[0mself\u001b[0m\u001b[1;33m,\u001b[0m \u001b[0mX\u001b[0m\u001b[1;33m,\u001b[0m \u001b[0mY\u001b[0m\u001b[1;33m)\u001b[0m\u001b[1;33m:\u001b[0m\u001b[1;33m\u001b[0m\u001b[1;33m\u001b[0m\u001b[0m\n\u001b[0;32m    862\u001b[0m         \u001b[1;34m\"\"\"Count and smooth feature occurrences.\"\"\"\u001b[0m\u001b[1;33m\u001b[0m\u001b[1;33m\u001b[0m\u001b[0m\n\u001b[1;32m--> 863\u001b[1;33m         \u001b[0mcheck_non_negative\u001b[0m\u001b[1;33m(\u001b[0m\u001b[0mX\u001b[0m\u001b[1;33m,\u001b[0m \u001b[1;34m\"MultinomialNB (input X)\"\u001b[0m\u001b[1;33m)\u001b[0m\u001b[1;33m\u001b[0m\u001b[1;33m\u001b[0m\u001b[0m\n\u001b[0m\u001b[0;32m    864\u001b[0m         \u001b[0mself\u001b[0m\u001b[1;33m.\u001b[0m\u001b[0mfeature_count_\u001b[0m \u001b[1;33m+=\u001b[0m \u001b[0msafe_sparse_dot\u001b[0m\u001b[1;33m(\u001b[0m\u001b[0mY\u001b[0m\u001b[1;33m.\u001b[0m\u001b[0mT\u001b[0m\u001b[1;33m,\u001b[0m \u001b[0mX\u001b[0m\u001b[1;33m)\u001b[0m\u001b[1;33m\u001b[0m\u001b[1;33m\u001b[0m\u001b[0m\n\u001b[0;32m    865\u001b[0m         \u001b[0mself\u001b[0m\u001b[1;33m.\u001b[0m\u001b[0mclass_count_\u001b[0m \u001b[1;33m+=\u001b[0m \u001b[0mY\u001b[0m\u001b[1;33m.\u001b[0m\u001b[0msum\u001b[0m\u001b[1;33m(\u001b[0m\u001b[0maxis\u001b[0m\u001b[1;33m=\u001b[0m\u001b[1;36m0\u001b[0m\u001b[1;33m)\u001b[0m\u001b[1;33m\u001b[0m\u001b[1;33m\u001b[0m\u001b[0m\n",
      "\u001b[1;32mD:\\soft\\Anaconda3\\envs\\study_ai\\lib\\site-packages\\sklearn\\utils\\validation.py\u001b[0m in \u001b[0;36mcheck_non_negative\u001b[1;34m(X, whom)\u001b[0m\n\u001b[0;32m   1247\u001b[0m \u001b[1;33m\u001b[0m\u001b[0m\n\u001b[0;32m   1248\u001b[0m     \u001b[1;32mif\u001b[0m \u001b[0mX_min\u001b[0m \u001b[1;33m<\u001b[0m \u001b[1;36m0\u001b[0m\u001b[1;33m:\u001b[0m\u001b[1;33m\u001b[0m\u001b[1;33m\u001b[0m\u001b[0m\n\u001b[1;32m-> 1249\u001b[1;33m         \u001b[1;32mraise\u001b[0m \u001b[0mValueError\u001b[0m\u001b[1;33m(\u001b[0m\u001b[1;34m\"Negative values in data passed to %s\"\u001b[0m \u001b[1;33m%\u001b[0m \u001b[0mwhom\u001b[0m\u001b[1;33m)\u001b[0m\u001b[1;33m\u001b[0m\u001b[1;33m\u001b[0m\u001b[0m\n\u001b[0m\u001b[0;32m   1250\u001b[0m \u001b[1;33m\u001b[0m\u001b[0m\n\u001b[0;32m   1251\u001b[0m \u001b[1;33m\u001b[0m\u001b[0m\n",
      "\u001b[1;31mValueError\u001b[0m: Negative values in data passed to MultinomialNB (input X)"
     ]
    }
   ],
   "source": [
    "# 导入多项式 朴素贝叶斯\n",
    "from sklearn.naive_bayes import MultinomialNB\n",
    "# 用多项式朴素贝叶斯拟合数据\n",
    "mnb = MultinomialNB()\n",
    "mnb.fit(x_train, y_train)\n",
    "mnb.score(x_test, y_test)"
   ]
  },
  {
   "cell_type": "markdown",
   "metadata": {},
   "source": [
    "【结果分析】\n",
    "- 提示信息告诉我们，输入的 X 值必须是非负的，这样的话，我们需要对数据进行一下预处理才行。"
   ]
  },
  {
   "cell_type": "code",
   "execution_count": null,
   "metadata": {},
   "outputs": [
    {
     "name": "stdout",
     "output_type": "stream",
     "text": [
      "\n",
      "\n",
      "\n",
      "\n",
      "代码运行结果：\n",
      "==============================\n",
      "\n",
      "模型得分：0.320\n",
      "\n",
      "==============================\n",
      "\n",
      "\n",
      "\n",
      "\n"
     ]
    }
   ],
   "source": [
    "# 导入多项式朴素贝叶斯\n",
    "from sklearn.naive_bayes import MultinomialNB\n",
    "# 导入数据预处理工具MinMaxScaler\n",
    "from sklsearn.preprocessing import MinMaxScaler\n",
    "# 使用MinMaxScaler对数据进行预处理，使数据全部为非负值\n",
    "scaler = MinMaxScaler()\n",
    "scaler.fit(x_train)\n",
    "x_train_scaled = scaler.transform(x_train)\n",
    "x_test_scaled = scaler.transform(x_test)\n",
    "# 使用多项式朴素贝叶斯拟合经过预处理之后的数据\n",
    "mnb = MultinomialNB()\n",
    "mnb.fit(x_train_scaled, y_train)\n",
    "print('\\n\\n\\n')\n",
    "print('代码运行结果：')\n",
    "print('==============================\\n')\n",
    "#打印模型得分\n",
    "print('模型得分：{:.3f}'.format(mnb.score(x_test_scaled, y_test)))\n",
    "print('\\n==============================')\n",
    "print('\\n\\n\\n')"
   ]
  },
  {
   "cell_type": "markdown",
   "metadata": {},
   "source": [
    "【结果分析】\n",
    "- 从结果中可看出，虽然经过预处理，将所有特征值转化为非负的，但是多形式朴素贝叶斯还是不能获得较高分数\n",
    "- 32% 的准确率甚至比贝努力朴素贝叶斯得分更糟点。\n",
    "- 如果用图形来表示的话，也可直观地看出多项式朴素贝叶斯并不适用来拟合这个数据集"
   ]
  },
  {
   "cell_type": "code",
   "execution_count": null,
   "metadata": {},
   "outputs": [
    {
     "data": {
      "image/png": "[encoded data removed]",
      "text/plain": [
       "<Figure size 432x288 with 1 Axes>"
      ]
     },
     "metadata": {
      "needs_background": "light"
     },
     "output_type": "display_data"
    }
   ],
   "source": [
    "# 用不同颜色区分不同的分类\n",
    "z = mnb.predict(np.c_[(xx.ravel(), yy.ravel())]).reshape(xx.shape)\n",
    "plt.pcolormesh(xx, yy, z, cmap=plt.cm.Pastel1)\n",
    "# 用散点图表示训练集和测试集\n",
    "plt.scatter(x_train[:, 0], x_train[:, 1], c=y_train,\n",
    "            cmap=plt.cm.cool, edgecolors='k')\n",
    "plt.scatter(x_test[:, 0], x_test[:, 1], c=y_test,\n",
    "            cmap=plt.cm.cool, marker='*', edgecolors='k')\n",
    "# 设定横纵轴范围\n",
    "plt.xlim(xx.min(), xx.max())\n",
    "plt.ylim(yy.min(), yy.max())\n",
    "# 设定标题\n",
    "plt.title('Classifiter MultionmialNB')\n",
    "# 显示图片 \n",
    "plt.show()"
   ]
  },
  {
   "cell_type": "markdown",
   "metadata": {},
   "source": [
    "【结果分析】\n",
    "- 从上图中可看出多项朴素贝叶斯所进行的分类确实比贝努力朴素贝叶斯还差\n",
    "- 这是因为，多项式朴素贝叶斯只适合用来对非负离散数值特征进行分类；\n",
    "- 典型的例子就是转化为向量后的文本数据进行分类；\n",
    "- 文本数据处理我们将在13章介绍\n",
    "\n",
    "**注意**：\n",
    "- 这里我们使用了MinMaxScaler对数据进行预处理，MinMaxScaler的作用是将数据集中的特征值全部转化为0~1"
   ]
  },
  {
   "cell_type": "markdown",
   "metadata": {},
   "source": [
    "#### 朴素贝叶斯实战————判断肿瘤是良性还是恶性"
   ]
  },
  {
   "cell_type": "markdown",
   "metadata": {},
   "source": [
    "##### 对数据集进行分析\n",
    "- 威斯康星乳腺肿瘤数据集是一个非常经典的用于医疗病情分析的数据集；\n",
    "- 它包括 569 个病例的数据样本，每个样本具有 30 个特征值；\n",
    "- 而样本共分为两类：分别是恶性（Malignant）和良性（Benign）\n",
    "- 载入数据集了解它的样子："
   ]
  },
  {
   "cell_type": "code",
   "execution_count": null,
   "metadata": {},
   "outputs": [
    {
     "name": "stdout",
     "output_type": "stream",
     "text": [
      "\n",
      "\n",
      "\n",
      "\n",
      "代码运行结果：\n",
      "==============================\n",
      "\n",
      "dict_keys(['data', 'target', 'frame', 'target_names', 'DESCR', 'feature_names', 'filename', 'data_module'])\n",
      "\n",
      "==============================\n",
      "\n",
      "\n",
      "\n",
      "\n"
     ]
    }
   ],
   "source": [
    "# 导入威斯康星乳腺肿瘤数据集\n",
    "from sklearn.datasets import load_breast_cancer\n",
    "cancer = load_breast_cancer()\n",
    "print('\\n\\n\\n')\n",
    "print('代码运行结果：')\n",
    "print('==============================\\n')\n",
    "#打印数据集键值\n",
    "print(cancer.keys())\n",
    "print('\\n==============================')\n",
    "print('\\n\\n\\n')"
   ]
  },
  {
   "cell_type": "code",
   "execution_count": 46,
   "metadata": {},
   "outputs": [
    {
     "name": "stdout",
     "output_type": "stream",
     "text": [
      "肿瘤分类： ['malignant' 'benign']\n",
      "\n",
      "肿瘤特征：\n",
      " ['mean radius' 'mean texture' 'mean perimeter' 'mean area'\n",
      " 'mean smoothness' 'mean compactness' 'mean concavity'\n",
      " 'mean concave points' 'mean symmetry' 'mean fractal dimension'\n",
      " 'radius error' 'texture error' 'perimeter error' 'area error'\n",
      " 'smoothness error' 'compactness error' 'concavity error'\n",
      " 'concave points error' 'symmetry error' 'fractal dimension error'\n",
      " 'worst radius' 'worst texture' 'worst perimeter' 'worst area'\n",
      " 'worst smoothness' 'worst compactness' 'worst concavity'\n",
      " 'worst concave points' 'worst symmetry' 'worst fractal dimension']\n"
     ]
    }
   ],
   "source": [
    "# 打印数据集中标注好的肿瘤分类\n",
    "print('肿瘤分类：', cancer['target_names'])\n",
    "# 打印数据集中的肿瘤特征名称\n",
    "print('\\n肿瘤特征：\\n', cancer['feature_names'])"
   ]
  },
  {
   "cell_type": "markdown",
   "metadata": {},
   "source": [
    "【结果分析】\n",
    "- 从上打印肿瘤数据集中的键值来看：\n",
    "- 可了解到，该数据集中肿瘤分类包括恶性（Malignant）和良性（Benign）；\n",
    "- 而特征值就多了很多，比如半径、表面纹理、灰度值、周长值、表面积值、平滑度等；\n",
    "- 下面用朴素贝叶斯算法进行建模"
   ]
  },
  {
   "cell_type": "code",
   "execution_count": 47,
   "metadata": {},
   "outputs": [
    {
     "name": "stdout",
     "output_type": "stream",
     "text": [
      "\n",
      "\n",
      "\n",
      "\n",
      "代码运行结果：\n",
      "==============================\n",
      "\n",
      "训练集数据形态： (426, 30)\n",
      "测试集数据形态： (143, 30)\n",
      "\n",
      "==============================\n",
      "\n",
      "\n",
      "\n",
      "\n"
     ]
    }
   ],
   "source": [
    "\"\"\"此数据集的特征值并不属于二项式分布，也不属于多项式分布，所以这里我们选择使用高斯（GaussianNB）\"\"\"\n",
    "# 将数据集的数值，和分类目标赋值给x和y\n",
    "x, y = cancer.data, cancer.target\n",
    "# 使用数据集拆分工具，拆分训练集和测试集\n",
    "x_train, x_test, y_train, y_test = train_test_split(x, y, random_state=38)\n",
    "print('\\n\\n\\n')\n",
    "print('代码运行结果：')\n",
    "print('==============================\\n')\n",
    "# 打印训练集和数据形态\n",
    "print('训练集数据形态：', x_train.shape)\n",
    "print('测试集数据形态：', x_test.shape)\n",
    "print('\\n==============================')\n",
    "print('\\n\\n\\n')"
   ]
  },
  {
   "cell_type": "code",
   "execution_count": 49,
   "metadata": {},
   "outputs": [
    {
     "name": "stdout",
     "output_type": "stream",
     "text": [
      "\n",
      "\n",
      "\n",
      "\n",
      "代码运行结果：\n",
      "==============================\n",
      "\n",
      "训练集得分：0.948\n",
      "测试集得分：0.944\n",
      "\n",
      "==============================\n",
      "\n",
      "\n",
      "\n",
      "\n"
     ]
    }
   ],
   "source": [
    "# 使用高斯朴素贝叶斯拟合数据\n",
    "gnb = GaussianNB()\n",
    "gnb.fit(x_train, y_train)\n",
    "print('\\n\\n\\n')\n",
    "print('代码运行结果：')\n",
    "print('==============================\\n')\n",
    "# 打印模型评分\n",
    "print('训练集得分：{:.3f}'.format(gnb.score(x_train, y_train)))\n",
    "print('测试集得分：{:.3f}'.format(gnb.score(x_test, y_test)))\n",
    "print('\\n==============================')\n",
    "print('\\n\\n\\n')"
   ]
  },
  {
   "cell_type": "markdown",
   "metadata": {},
   "source": [
    "【结果分析】\n",
    "- GaussianNB在训练集和测试集得分都非常不错：均95%左右\n",
    "- 下面我们随便用一个样本（如第312个样本），让模型进行预测，看是否可以分到正确的分类中："
   ]
  },
  {
   "cell_type": "code",
   "execution_count": 51,
   "metadata": {},
   "outputs": [
    {
     "name": "stdout",
     "output_type": "stream",
     "text": [
      "\n",
      "\n",
      "\n",
      "\n",
      "代码运行结果：\n",
      "==============================\n",
      "\n",
      "模型预测的分类是：[1]\n",
      "样本的正确分类是： 1\n",
      "\n",
      "==============================\n",
      "\n",
      "\n",
      "\n",
      "\n"
     ]
    }
   ],
   "source": [
    "print('\\n\\n\\n')\n",
    "print('代码运行结果：')\n",
    "print('==============================\\n')\n",
    "# 打印模型预测的分类和真实分类\n",
    "print('模型预测的分类是：{}'.format(gnb.predict(x[[312]])))\n",
    "print('样本的正确分类是：', y[312])\n",
    "print('\\n==============================')\n",
    "print('\\n\\n\\n')\n"
   ]
  },
  {
   "cell_type": "markdown",
   "metadata": {},
   "source": [
    "【结果分析】\n",
    "- 模型对312样本所进行的分类和正确分类一致；\n",
    "- 分类为1，也就是说此样本肿瘤是一个良性肿瘤。\n",
    "  "
   ]
  },
  {
   "cell_type": "markdown",
   "metadata": {},
   "source": [
    "##### 高斯朴素贝叶斯的学习曲线\n",
    "- 在机器学习中，有个概念称为学习曲线（learning curve）\n",
    "- 指得是随着数据集样本数量的增加，模型得分变化情况；"
   ]
  },
  {
   "cell_type": "code",
   "execution_count": 64,
   "metadata": {},
   "outputs": [
    {
     "data": {
      "image/png": "[encoded data removed]",
      "text/plain": [
       "<Figure size 432x288 with 1 Axes>"
      ]
     },
     "metadata": {
      "needs_background": "light"
     },
     "output_type": "display_data"
    }
   ],
   "source": [
    "# 导入学习曲线库\n",
    "from sklearn.model_selection import learning_curve\n",
    "# 导入随机拆分工具\n",
    "from sklearn.model_selection import ShuffleSplit\n",
    "# 定义一个函数绘制学习曲线\n",
    "\n",
    "\n",
    "def plot_learning_curve(estimator, title, x, y, ylim=None, cv=None,\n",
    "                        n_jobs=1, train_sizes=np.linspace(.1, 1.0, 5)):  # array([0.1  , 0.325, 0.55 , 0.775, 1.   ])\n",
    "    plt.figure()\n",
    "    plt.title(title)\n",
    "    if ylim is not None:\n",
    "        plt.ylim(*ylim)\n",
    "    # 设定横轴标签\n",
    "    plt.xlabel(\"Training examples\")\n",
    "    # 设定纵轴标签\n",
    "    plt.ylabel(\"Score\")\n",
    "    \"\"\" learning_curve(estimator, X, y, train_sizes=array([0.1, 0.325, 0.55, 0.775, 1. ]), cv=None,scoring=None, exploit_incremental_learning=False, n_jobs=1, pre_dispatch='all', verbose=0)　\n",
    "    \n",
    "    \"\"\"\n",
    "    train_sizes, train_scores, test_scores = learning_curve(\n",
    "        estimator, x, y, cv=cv, n_jobs=n_jobs, train_sizes=train_sizes)\n",
    "    \"\"\"\n",
    "        参数：\n",
    "        estimator：分类器\n",
    "        X：训练向量\n",
    "        y: 目标相对于X分类，即数据标签.\n",
    "        train_sizes: 训练样本相对的或绝对的,这些量的样本将会生成learning curve\n",
    "        cv:确定交叉验证的分离策略（None，默认3-fold cross-validation；integer：确定几折交叉验证）\n",
    "        verbose：整型，可选择的。控制冗余：越高，有越多的信息\n",
    "        n_jobs: 并行个数（默认是1）\n",
    "\n",
    "        返回值:\n",
    "        train_sizes_abs：生成learning curve的训练集的样本数。重复的输入会被删除。\n",
    "        train_scores：在训练集上的分数\n",
    "        test_scores：在测试集上的分数\n",
    "    \"\"\"\n",
    "    train_scores_mean = np.mean(train_scores, axis=1)\n",
    "    test_scores_mean = np.mean(test_scores, axis=1)\n",
    "    # 柵格\n",
    "    plt.grid()\n",
    "    # 画图\n",
    "    plt.plot(train_sizes, train_scores_mean, 'o-', color=\"r\",\n",
    "             label=\"Training score\")\n",
    "    plt.plot(train_sizes, test_scores_mean, 'o-', color=\"g\",\n",
    "             label=\"Cross-validation score\")\n",
    "    plt.legend(loc=\"lower right\")\n",
    "    return plt\n",
    "\n",
    "\n",
    "# 设定图题\n",
    "title = \"Learning Curves (Naive Bayes)\"\n",
    "# 设定拆分数量\n",
    "cv = ShuffleSplit(n_splits=100, test_size=0.2, random_state=0)\n",
    "# 设定模型为高斯朴素贝叶斯\n",
    "estimator = GaussianNB()\n",
    "# 调用我们定义好的函数\n",
    "plot_learning_curve(estimator, title, x, y, ylim=(0.9, 1.01), cv=cv, n_jobs=4)\n",
    "# 显示图片\n",
    "plt.show()\n"
   ]
  },
  {
   "cell_type": "markdown",
   "metadata": {},
   "source": [
    "【结果分析】\n",
    "- 从上图可看到，在训练集中，随着样本增加得分是降低的；\n",
    "- 这是因为随着样本数据增加，需要拟合的数据也越多，难度就越大；\n",
    "- 而模型的交叉验证变化相对稳定到0.94;\n",
    "- 这说明高斯朴素贝叶斯在预测方面对样本数量要求不高\n",
    "- 使用如果样本数量较少，可以考虑使用朴素贝叶斯算法来建模\n",
    "  "
   ]
  },
  {
   "cell_type": "markdown",
   "metadata": {},
   "source": [
    "#### 小结\n",
    "1. 本章学习了朴素贝叶斯算法和它几种变体——贝努力、高斯、多项式；\n",
    "2. 贝努力适合与二项式分布的数据集\n",
    "3. 多项式适合计数类型的数据集，即非负、离散型数值的数据集\n",
    "4. 高斯朴素贝叶斯适合面广得多，他可以应用于任何连续数值型的数据集中；若符合正态分布，高斯模型得分会更高~\n",
    "5. 朴素贝叶斯相比线性模型来说：效率更高。适合超高维度的数据集（特征多），但是可能泛化能力比线性低几个百分点（不过在大数据时代，训练效率比这个重要得多！）\n",
    "6. 第六章学习决策树，和随机森林算法，它是目前最流行的算法之一"
   ]
  }
 ],
 "metadata": {
  "interpreter": {
   "hash": "beed03bc0fcaf2d235a86daf15f8c33ca0493088955c2d7f6a5dc346a31126d9"
  },
  "kernelspec": {
   "display_name": "Python 3.8.12 ('study_ai')",
   "language": "python",
   "name": "python3"
  },
  "language_info": {
   "codemirror_mode": {
    "name": "ipython",
    "version": 3
   },
   "file_extension": ".py",
   "mimetype": "text/x-python",
   "name": "python",
   "nbconvert_exporter": "python",
   "pygments_lexer": "ipython3",
   "version": "3.8.12"
  },
  "orig_nbformat": 4
 },
 "nbformat": 4,
 "nbformat_minor": 2
}
